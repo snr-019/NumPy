{
  "nbformat": 4,
  "nbformat_minor": 0,
  "metadata": {
    "colab": {
      "provenance": [],
      "authorship_tag": "ABX9TyMd3XN7o5G7wF9rwqIfUhcM"
    },
    "kernelspec": {
      "name": "python3",
      "display_name": "Python 3"
    },
    "language_info": {
      "name": "python"
    }
  },
  "cells": [
    {
      "cell_type": "markdown",
      "source": [
        "<h1>**NumPy**<h1>\n",
        "\n",
        "\n"
      ],
      "metadata": {
        "id": "gpq6Tn15-4oz"
      }
    },
    {
      "cell_type": "code",
      "source": [
        "import numpy"
      ],
      "metadata": {
        "id": "MT4CpKcW_AT1"
      },
      "execution_count": null,
      "outputs": []
    },
    {
      "cell_type": "code",
      "source": [
        "# initially lets import numpy\n",
        "import numpy as np"
      ],
      "metadata": {
        "id": "NVBW1amFAmto"
      },
      "execution_count": null,
      "outputs": []
    },
    {
      "cell_type": "code",
      "source": [
        "print(np.__version__)"
      ],
      "metadata": {
        "colab": {
          "base_uri": "https://localhost:8080/"
        },
        "id": "d25FaoxvKG4W",
        "outputId": "e79226e2-95ea-4e81-96ff-974bb7ecfe0f"
      },
      "execution_count": null,
      "outputs": [
        {
          "output_type": "stream",
          "name": "stdout",
          "text": [
            "1.25.2\n"
          ]
        }
      ]
    },
    {
      "cell_type": "markdown",
      "source": [
        "**Creation of Arrays**"
      ],
      "metadata": {
        "id": "VK5k9KX8738z"
      }
    },
    {
      "cell_type": "code",
      "source": [
        "my_list=[1,2,3,4]\n",
        "arr=np.array(my_list)  #list gets converted to an array\n",
        "print(type(arr))"
      ],
      "metadata": {
        "id": "FNOaMIe5377F",
        "colab": {
          "base_uri": "https://localhost:8080/"
        },
        "outputId": "35cabdaf-eeda-44aa-d980-3ec85e021adc"
      },
      "execution_count": null,
      "outputs": [
        {
          "output_type": "stream",
          "name": "stdout",
          "text": [
            "<class 'numpy.ndarray'>\n"
          ]
        }
      ]
    },
    {
      "cell_type": "code",
      "source": [
        "print(arr)"
      ],
      "metadata": {
        "colab": {
          "base_uri": "https://localhost:8080/"
        },
        "id": "Q3-TyE1g4c0W",
        "outputId": "019f3d41-2669-4a10-966b-1dee44ef19c9"
      },
      "execution_count": null,
      "outputs": [
        {
          "output_type": "stream",
          "name": "stdout",
          "text": [
            "[1 2 3 4]\n"
          ]
        }
      ]
    },
    {
      "cell_type": "code",
      "source": [
        "arr.size"
      ],
      "metadata": {
        "colab": {
          "base_uri": "https://localhost:8080/"
        },
        "id": "2yI56LLVxxhH",
        "outputId": "21ab1d95-d7f5-4f66-f529-d9dcddd31c6a"
      },
      "execution_count": null,
      "outputs": [
        {
          "output_type": "execute_result",
          "data": {
            "text/plain": [
              "4"
            ]
          },
          "metadata": {},
          "execution_count": 249
        }
      ]
    },
    {
      "cell_type": "code",
      "source": [
        "# chechking the dimensions with .ndim\n",
        "print(arr.ndim)"
      ],
      "metadata": {
        "colab": {
          "base_uri": "https://localhost:8080/"
        },
        "id": "rPIiSZTG4fgT",
        "outputId": "112098f8-84ea-47fc-a005-ec91724aeae2"
      },
      "execution_count": null,
      "outputs": [
        {
          "output_type": "stream",
          "name": "stdout",
          "text": [
            "1\n"
          ]
        }
      ]
    },
    {
      "cell_type": "code",
      "source": [
        "# 2D Array\n",
        "my_list1=[1,22,3,14,15]\n",
        "my_list2=[1,22,3,14,15]\n",
        "arr1=np.array([my_list1,my_list2])\n",
        "print(arr1)\n",
        "\n",
        "my_list=[[1,2,3,4],[4,5,6,7]]\n",
        "arr=np.array(my_list)\n",
        "print(arr)\n",
        "print(\"no .of dimensions:\",arr.ndim)"
      ],
      "metadata": {
        "colab": {
          "base_uri": "https://localhost:8080/"
        },
        "id": "74frp60I96-7",
        "outputId": "3c24c9cb-b1b9-496d-f586-0cc426d7dd9d"
      },
      "execution_count": null,
      "outputs": [
        {
          "output_type": "stream",
          "name": "stdout",
          "text": [
            "[[ 1 22  3 14 15]\n",
            " [ 1 22  3 14 15]]\n",
            "[[1 2 3 4]\n",
            " [4 5 6 7]]\n",
            "no .of dimensions: 2\n"
          ]
        }
      ]
    },
    {
      "cell_type": "code",
      "source": [
        "# 3D array\n",
        "arr3=np.array([[[1,2,3],[4,5,6],[7,8,9]]])\n",
        "print(arr3,\"the dimensions:\",arr3.ndim)"
      ],
      "metadata": {
        "colab": {
          "base_uri": "https://localhost:8080/"
        },
        "id": "MxXTEwsLBWqp",
        "outputId": "95656f00-7dad-460f-cf8d-bc27c4aa6f2d"
      },
      "execution_count": null,
      "outputs": [
        {
          "output_type": "stream",
          "name": "stdout",
          "text": [
            "[[[1 2 3]\n",
            "  [4 5 6]\n",
            "  [7 8 9]]] the dimensions: 3\n"
          ]
        }
      ]
    },
    {
      "cell_type": "code",
      "source": [
        "# boolean array\n",
        "numpy_boolean_array = [[True, False], [True, True], [False, True]]\n",
        "\n",
        "# float array\n",
        "numpy_float_array = [1.9, 5.4, 8.8, 3.6, 3.2]"
      ],
      "metadata": {
        "id": "Wsp2o8K6IIRG"
      },
      "execution_count": null,
      "outputs": []
    },
    {
      "cell_type": "code",
      "source": [
        "# shape specifies how many rows and columns are there, check the shape of an array\n",
        "arr.shape"
      ],
      "metadata": {
        "colab": {
          "base_uri": "https://localhost:8080/"
        },
        "id": "rKRbDv_24ogR",
        "outputId": "16d80119-5886-4117-a9e5-df53808f7a5d"
      },
      "execution_count": null,
      "outputs": [
        {
          "output_type": "execute_result",
          "data": {
            "text/plain": [
              "(4,)"
            ]
          },
          "metadata": {},
          "execution_count": 7
        }
      ]
    },
    {
      "cell_type": "code",
      "source": [
        "my_list1=[1,2,3,4,5]\n",
        "my_list2=[1,2,3,4,5]\n",
        "#my_list3=[1,2,3,4,5]\n",
        "arr=np.array([my_list1,my_list2,my_list3])"
      ],
      "metadata": {
        "id": "LIFQ95VJ48Ic"
      },
      "execution_count": null,
      "outputs": []
    },
    {
      "cell_type": "code",
      "source": [
        "print(arr)"
      ],
      "metadata": {
        "colab": {
          "base_uri": "https://localhost:8080/"
        },
        "id": "Iabsu0ZN7RQV",
        "outputId": "0613c546-3d2e-48ee-8153-733d91e9ce08"
      },
      "execution_count": null,
      "outputs": [
        {
          "output_type": "stream",
          "name": "stdout",
          "text": [
            "[[ 1  2  3  4 50]\n",
            " [ 1  2  3  4 50]\n",
            " [ 1  2  3  4 50]]\n"
          ]
        }
      ]
    },
    {
      "cell_type": "code",
      "source": [
        "# Creating multi dimensional array\n",
        "arr_nd=np.array([1,2,3,4],ndmin=10)\n",
        "print(arr_nd)\n",
        "print(arr_nd.ndim)"
      ],
      "metadata": {
        "colab": {
          "base_uri": "https://localhost:8080/"
        },
        "id": "GphbUKKYCu5w",
        "outputId": "7413c213-45fa-4d57-ac07-7303f8c06a9f"
      },
      "execution_count": null,
      "outputs": [
        {
          "output_type": "stream",
          "name": "stdout",
          "text": [
            "[[[[[[[[[[1 2 3 4]]]]]]]]]]\n",
            "10\n"
          ]
        }
      ]
    },
    {
      "cell_type": "code",
      "source": [
        "arr.shape"
      ],
      "metadata": {
        "colab": {
          "base_uri": "https://localhost:8080/"
        },
        "id": "A9kByuC_7psG",
        "outputId": "2c3a3304-12bf-4c3f-aa13-e02254b22af7"
      },
      "execution_count": null,
      "outputs": [
        {
          "output_type": "execute_result",
          "data": {
            "text/plain": [
              "(3, 5)"
            ]
          },
          "metadata": {},
          "execution_count": 13
        }
      ]
    },
    {
      "cell_type": "code",
      "source": [
        "# .reshape: reshapes the array, containing the same data with new shape, numer of elements should be equal\n",
        "arr.reshape(5,3)\n"
      ],
      "metadata": {
        "colab": {
          "base_uri": "https://localhost:8080/"
        },
        "id": "DGG3wxqt7tHK",
        "outputId": "8e26eab4-e1aa-4719-9a8f-08fb2d0fedf7"
      },
      "execution_count": null,
      "outputs": [
        {
          "output_type": "execute_result",
          "data": {
            "text/plain": [
              "array([[ 1,  2,  3],\n",
              "       [ 4, 50,  1],\n",
              "       [ 2,  3,  4],\n",
              "       [50,  1,  2],\n",
              "       [ 3,  4, 50]])"
            ]
          },
          "metadata": {},
          "execution_count": 14
        }
      ]
    },
    {
      "cell_type": "code",
      "source": [
        "# flatten\n",
        "print(arr)\n",
        "print(arr.flatten())"
      ],
      "metadata": {
        "colab": {
          "base_uri": "https://localhost:8080/"
        },
        "id": "N5IGMeJKJtv8",
        "outputId": "858a9d4c-ecc2-4302-f9cc-1decf6e1582f"
      },
      "execution_count": null,
      "outputs": [
        {
          "output_type": "stream",
          "name": "stdout",
          "text": [
            "[[1 2 3 4]\n",
            " [4 5 6 7]]\n",
            "[1 2 3 4 4 5 6 7]\n"
          ]
        }
      ]
    },
    {
      "cell_type": "code",
      "source": [
        "\n",
        "a = np.array([1, 2, 3, 4, 5, 6])\n",
        "a.shape\n",
        "print(a)"
      ],
      "metadata": {
        "colab": {
          "base_uri": "https://localhost:8080/"
        },
        "id": "qumGByDOREBA",
        "outputId": "95c232cd-a85f-47f4-c86e-5329dd355448"
      },
      "execution_count": null,
      "outputs": [
        {
          "output_type": "stream",
          "name": "stdout",
          "text": [
            "[1 2 3 4 5 6]\n"
          ]
        }
      ]
    },
    {
      "cell_type": "code",
      "source": [
        "# 1d to 2d\n",
        "a2 = a[np.newaxis,: ]\n",
        "a2.shape"
      ],
      "metadata": {
        "colab": {
          "base_uri": "https://localhost:8080/"
        },
        "id": "_hHWmrLeRJZ7",
        "outputId": "05d5011a-134f-40b6-dc17-5d75115147be"
      },
      "execution_count": null,
      "outputs": [
        {
          "output_type": "execute_result",
          "data": {
            "text/plain": [
              "(1, 6)"
            ]
          },
          "metadata": {},
          "execution_count": 209
        }
      ]
    },
    {
      "cell_type": "code",
      "source": [
        "print(a2)"
      ],
      "metadata": {
        "colab": {
          "base_uri": "https://localhost:8080/"
        },
        "id": "6HjCg3gIRPTr",
        "outputId": "66f14b05-473b-426b-c7bf-31b0a310429b"
      },
      "execution_count": null,
      "outputs": [
        {
          "output_type": "stream",
          "name": "stdout",
          "text": [
            "[[1 2 3 4 5 6]]\n"
          ]
        }
      ]
    },
    {
      "cell_type": "markdown",
      "source": [
        "<h2>Data Types</h2>\n",
        "i - integer,\n",
        "b - boolean,\n",
        "u - unsigned integer,\n",
        "f - float,\n",
        "c - complex float,\n",
        "m - timedelta,\n",
        "M - datetime,\n",
        "O - object,\n",
        "S - string,\n",
        "U - unicode string,\n",
        "V - fixed chunk of memory for other type ( void )"
      ],
      "metadata": {
        "id": "70rVZ8quR8fk"
      }
    },
    {
      "cell_type": "code",
      "source": [
        "x = np.array([1, 2])   # Let numpy choose the datatype\n",
        "print(x.dtype)"
      ],
      "metadata": {
        "colab": {
          "base_uri": "https://localhost:8080/"
        },
        "id": "tScYbOTnSGkG",
        "outputId": "e5aa70bd-ea28-406c-d9a0-1e39dfadeaf8"
      },
      "execution_count": null,
      "outputs": [
        {
          "output_type": "stream",
          "name": "stdout",
          "text": [
            "int64\n"
          ]
        }
      ]
    },
    {
      "cell_type": "code",
      "source": [
        "x=np.array([1.1,1.1,1.2,1.3])\n",
        "print(x.dtype)"
      ],
      "metadata": {
        "colab": {
          "base_uri": "https://localhost:8080/"
        },
        "id": "FZSpl2L9TZtY",
        "outputId": "5b3883fa-fe3b-45b9-e87a-3e4f08c48a19"
      },
      "execution_count": null,
      "outputs": [
        {
          "output_type": "stream",
          "name": "stdout",
          "text": [
            "float64\n"
          ]
        }
      ]
    },
    {
      "cell_type": "code",
      "source": [
        "x = np.array([1, 2], dtype=np.int64)   # Force a particular datatype\n",
        "print(x.dtype)"
      ],
      "metadata": {
        "colab": {
          "base_uri": "https://localhost:8080/"
        },
        "id": "hPBuL2E7TnOu",
        "outputId": "82d5588c-1193-42d5-cae4-02da84f9309a"
      },
      "execution_count": null,
      "outputs": [
        {
          "output_type": "stream",
          "name": "stdout",
          "text": [
            "int64\n"
          ]
        }
      ]
    },
    {
      "cell_type": "code",
      "source": [
        "np.array(['1.32', '5.78', '175.55']).dtype"
      ],
      "metadata": {
        "colab": {
          "base_uri": "https://localhost:8080/"
        },
        "id": "VzAgpcrKUkUb",
        "outputId": "c940863b-4a09-4d7f-8094-3b5bda633181"
      },
      "execution_count": null,
      "outputs": [
        {
          "output_type": "execute_result",
          "data": {
            "text/plain": [
              "dtype('<U6')"
            ]
          },
          "metadata": {},
          "execution_count": 216
        }
      ]
    },
    {
      "cell_type": "code",
      "source": [
        "arr = np.array(['apple', 'banana', 'cherry'])\n",
        "\n",
        "print(arr.dtype)"
      ],
      "metadata": {
        "colab": {
          "base_uri": "https://localhost:8080/"
        },
        "id": "kxVfTKxjU8_I",
        "outputId": "59d4437d-48ac-4bc1-ff69-3eca3d7269ad"
      },
      "execution_count": null,
      "outputs": [
        {
          "output_type": "stream",
          "name": "stdout",
          "text": [
            "<U6\n"
          ]
        }
      ]
    },
    {
      "cell_type": "code",
      "source": [
        "d = np.arange(1, 5, dtype=np.complex64)\n",
        "print(d.dtype, d)"
      ],
      "metadata": {
        "colab": {
          "base_uri": "https://localhost:8080/"
        },
        "id": "x7vEFKwhXYBF",
        "outputId": "20804105-be78-4835-ebae-4fbe80b4efaf"
      },
      "execution_count": null,
      "outputs": [
        {
          "output_type": "stream",
          "name": "stdout",
          "text": [
            "complex64 [1.+0.j 2.+0.j 3.+0.j 4.+0.j]\n"
          ]
        }
      ]
    },
    {
      "cell_type": "code",
      "source": [
        "# type conersion\n",
        "boolean_array = np.array([[True, False], [False, False]])\n",
        "print(boolean_array.dtype)\n",
        "newarr=boolean_array.astype(np.int32)\n",
        "print(newarr.dtype)\n"
      ],
      "metadata": {
        "colab": {
          "base_uri": "https://localhost:8080/"
        },
        "id": "dg7zbLmAV7E_",
        "outputId": "46cd3b9c-3f93-4990-aa04-9a5daebd2e7d"
      },
      "execution_count": null,
      "outputs": [
        {
          "output_type": "stream",
          "name": "stdout",
          "text": [
            "bool\n",
            "int32\n"
          ]
        }
      ]
    },
    {
      "cell_type": "markdown",
      "source": [
        "<h1>** Indexing**<h1>"
      ],
      "metadata": {
        "id": "yoeQB4hl_g6P"
      }
    },
    {
      "cell_type": "code",
      "source": [
        "# accessing the array elements\n",
        "arr= np.array([1,2,3,4,5])"
      ],
      "metadata": {
        "id": "gapPFkIp_wKh"
      },
      "execution_count": null,
      "outputs": []
    },
    {
      "cell_type": "code",
      "source": [
        "arr[3]"
      ],
      "metadata": {
        "colab": {
          "base_uri": "https://localhost:8080/"
        },
        "id": "BHMAcfPjAKoA",
        "outputId": "274ef562-718b-40ad-f382-c1466022f0d1"
      },
      "execution_count": null,
      "outputs": [
        {
          "output_type": "execute_result",
          "data": {
            "text/plain": [
              "4"
            ]
          },
          "metadata": {},
          "execution_count": 17
        }
      ]
    },
    {
      "cell_type": "code",
      "source": [
        "my_list1=[1,2,3,4,5]\n",
        "my_list2=[6,7,8,9,10]\n",
        "my_list3=[11,12,13,14,15]\n",
        "arr=np.array([my_list1,my_list2,my_list3])\n"
      ],
      "metadata": {
        "id": "1xOwZMXzAM-j"
      },
      "execution_count": null,
      "outputs": []
    },
    {
      "cell_type": "code",
      "source": [
        "print(arr)"
      ],
      "metadata": {
        "colab": {
          "base_uri": "https://localhost:8080/"
        },
        "id": "rRYzSKFkAzWO",
        "outputId": "858be68b-c855-42bd-d88a-c60638e83ac8"
      },
      "execution_count": null,
      "outputs": [
        {
          "output_type": "stream",
          "name": "stdout",
          "text": [
            "[[ 1  2  3  4  5]\n",
            " [ 6  7  8  9 10]\n",
            " [11 12 13 14 15]]\n"
          ]
        }
      ]
    },
    {
      "cell_type": "code",
      "source": [
        "arr"
      ],
      "metadata": {
        "colab": {
          "base_uri": "https://localhost:8080/"
        },
        "id": "2BH50n04A1C5",
        "outputId": "66ad1629-5345-4b9d-a233-e33a5ee48971"
      },
      "execution_count": null,
      "outputs": [
        {
          "output_type": "execute_result",
          "data": {
            "text/plain": [
              "array([[ 1,  2,  3,  4,  5],\n",
              "       [ 6,  7,  8,  9, 10],\n",
              "       [11, 12, 13, 14, 15]])"
            ]
          },
          "metadata": {},
          "execution_count": 29
        }
      ]
    },
    {
      "cell_type": "code",
      "source": [
        "arr[:,:]  # retrives all the row and the column indexes"
      ],
      "metadata": {
        "colab": {
          "base_uri": "https://localhost:8080/"
        },
        "id": "bbrndmglA8cG",
        "outputId": "d42c39b6-0932-4167-a779-52f19997f50f"
      },
      "execution_count": null,
      "outputs": [
        {
          "output_type": "execute_result",
          "data": {
            "text/plain": [
              "array([[ 1,  2,  3,  4,  5],\n",
              "       [ 6,  7,  8,  9, 10],\n",
              "       [11, 12, 13, 14, 15]])"
            ]
          },
          "metadata": {},
          "execution_count": 30
        }
      ]
    },
    {
      "cell_type": "code",
      "source": [
        "arr[1:3,0:2]"
      ],
      "metadata": {
        "colab": {
          "base_uri": "https://localhost:8080/"
        },
        "id": "GI4r5wTQBgav",
        "outputId": "cc284406-c267-4280-f555-011fd4c066f0"
      },
      "execution_count": null,
      "outputs": [
        {
          "output_type": "execute_result",
          "data": {
            "text/plain": [
              "array([[ 6,  7],\n",
              "       [11, 12]])"
            ]
          },
          "metadata": {},
          "execution_count": 48
        }
      ]
    },
    {
      "cell_type": "code",
      "source": [
        "arr[0:2,0:2]"
      ],
      "metadata": {
        "colab": {
          "base_uri": "https://localhost:8080/"
        },
        "id": "qje_aTYsBslW",
        "outputId": "ed6484b3-b4b5-4440-cc7f-20b1d754ae19"
      },
      "execution_count": null,
      "outputs": [
        {
          "output_type": "execute_result",
          "data": {
            "text/plain": [
              "array([[1, 2],\n",
              "       [6, 7]])"
            ]
          },
          "metadata": {},
          "execution_count": 241
        }
      ]
    },
    {
      "cell_type": "code",
      "source": [
        "arr[1:2,0:1]"
      ],
      "metadata": {
        "colab": {
          "base_uri": "https://localhost:8080/"
        },
        "id": "Kc3B1EV1CI-2",
        "outputId": "08fc990a-7b05-4816-9034-712f653c8934"
      },
      "execution_count": null,
      "outputs": [
        {
          "output_type": "execute_result",
          "data": {
            "text/plain": [
              "array([[6]])"
            ]
          },
          "metadata": {},
          "execution_count": 41
        }
      ]
    },
    {
      "cell_type": "code",
      "source": [
        "arr[2:,3:5]"
      ],
      "metadata": {
        "colab": {
          "base_uri": "https://localhost:8080/"
        },
        "id": "HptaH41hCatB",
        "outputId": "73948f14-2d9f-4ffa-8737-c4f0bdb047c2"
      },
      "execution_count": null,
      "outputs": [
        {
          "output_type": "execute_result",
          "data": {
            "text/plain": [
              "array([[14, 15]])"
            ]
          },
          "metadata": {},
          "execution_count": 52
        }
      ]
    },
    {
      "cell_type": "code",
      "source": [
        "arr[1:4,1:3]"
      ],
      "metadata": {
        "colab": {
          "base_uri": "https://localhost:8080/"
        },
        "id": "I_glabVmFS6P",
        "outputId": "b058ee28-5f7d-40c7-ff2d-1a3243465a69"
      },
      "execution_count": null,
      "outputs": [
        {
          "output_type": "execute_result",
          "data": {
            "text/plain": [
              "array([[ 7,  8],\n",
              "       [12, 13]])"
            ]
          },
          "metadata": {},
          "execution_count": 53
        }
      ]
    },
    {
      "cell_type": "code",
      "source": [
        "arr[:,3:5]"
      ],
      "metadata": {
        "colab": {
          "base_uri": "https://localhost:8080/"
        },
        "id": "_CILC8l7F3A3",
        "outputId": "2e969e5e-aef9-4bab-c8c5-03c4360ad0da"
      },
      "execution_count": null,
      "outputs": [
        {
          "output_type": "execute_result",
          "data": {
            "text/plain": [
              "array([[ 4,  5],\n",
              "       [ 9, 10],\n",
              "       [14, 15]])"
            ]
          },
          "metadata": {},
          "execution_count": 62
        }
      ]
    },
    {
      "cell_type": "code",
      "source": [
        "arr1=[\"heelo\",1,2,2]\n"
      ],
      "metadata": {
        "id": "TGLHdn-VTcDI"
      },
      "execution_count": null,
      "outputs": []
    },
    {
      "cell_type": "code",
      "source": [
        "print(arr1)"
      ],
      "metadata": {
        "colab": {
          "base_uri": "https://localhost:8080/"
        },
        "id": "QJxo6EjuTilA",
        "outputId": "a932ff79-270a-4e40-91b7-1a5ad9f5b655"
      },
      "execution_count": null,
      "outputs": [
        {
          "output_type": "stream",
          "name": "stdout",
          "text": [
            "['heelo', 1, 2, 2]\n"
          ]
        }
      ]
    },
    {
      "cell_type": "code",
      "source": [
        "arr1=np.array(arr1)"
      ],
      "metadata": {
        "id": "VWf2MmFOTkns"
      },
      "execution_count": null,
      "outputs": []
    },
    {
      "cell_type": "code",
      "source": [
        "print(arr1)"
      ],
      "metadata": {
        "colab": {
          "base_uri": "https://localhost:8080/"
        },
        "id": "uP4E4zhUTrjt",
        "outputId": "87988b9c-fe6d-412c-baf7-2512277a3379"
      },
      "execution_count": null,
      "outputs": [
        {
          "output_type": "stream",
          "name": "stdout",
          "text": [
            "['heelo' '1' '2' '2']\n"
          ]
        }
      ]
    },
    {
      "cell_type": "code",
      "source": [
        "type(arr1)"
      ],
      "metadata": {
        "colab": {
          "base_uri": "https://localhost:8080/"
        },
        "id": "pfpRDPr_TtzY",
        "outputId": "7cce1124-68af-4470-cbc0-3502d64faf83"
      },
      "execution_count": null,
      "outputs": [
        {
          "output_type": "execute_result",
          "data": {
            "text/plain": [
              "numpy.ndarray"
            ]
          },
          "metadata": {},
          "execution_count": 69
        }
      ]
    },
    {
      "cell_type": "markdown",
      "source": [
        "<h2> Fancy Indexing<h2>"
      ],
      "metadata": {
        "id": "4tKeBw0mXeiy"
      }
    },
    {
      "cell_type": "code",
      "source": [
        "arr=np.array([10,20,30,40,50,60])\n",
        "#Suppose we want to extract elements at 2nd 5th and 0th index\n",
        "index=[0,2,5]\n",
        "arr[index]"
      ],
      "metadata": {
        "colab": {
          "base_uri": "https://localhost:8080/"
        },
        "id": "qXdZacLGXjMc",
        "outputId": "d7704881-83e4-4f76-edd7-0b4b4346afaa"
      },
      "execution_count": null,
      "outputs": [
        {
          "output_type": "execute_result",
          "data": {
            "text/plain": [
              "array([10, 30, 60])"
            ]
          },
          "metadata": {},
          "execution_count": 4
        }
      ]
    },
    {
      "cell_type": "code",
      "source": [
        "#Fancy indexing with 2-D arrays\n",
        "arr=np.array([[1,2,3],[4,5,6],[7,8,9]])\n",
        "#Suppose we want to extract elements at (1,2),(3,3),(2,1),(1,1)\n",
        "row_indices=[0,2,1,0] #Here we pass the row indices in the list\n",
        "column_indices=[1,2,0,0] #Here we pass the column indices in the list\n",
        "arr[row_indices,column_indices]"
      ],
      "metadata": {
        "colab": {
          "base_uri": "https://localhost:8080/"
        },
        "id": "yKYceMQ5NYOv",
        "outputId": "c39792b9-2f45-4118-a24c-5e850e03b0f9"
      },
      "execution_count": null,
      "outputs": [
        {
          "output_type": "execute_result",
          "data": {
            "text/plain": [
              "array([2, 9, 4, 1])"
            ]
          },
          "metadata": {},
          "execution_count": 5
        }
      ]
    },
    {
      "cell_type": "code",
      "source": [
        "#Fancy indexing combined with slicing\n",
        "arr=np.array([[1,2,3],[4,5,6]])\n",
        "#Suppse we want to extract the elements of 2nd row leaving the middle element\n",
        "arr[1,[0,2]]"
      ],
      "metadata": {
        "colab": {
          "base_uri": "https://localhost:8080/"
        },
        "id": "B4iDEcjXNjmO",
        "outputId": "de4b140b-8e32-4fdf-e19e-cd0cf11d121d"
      },
      "execution_count": null,
      "outputs": [
        {
          "output_type": "execute_result",
          "data": {
            "text/plain": [
              "array([4, 6])"
            ]
          },
          "metadata": {},
          "execution_count": 6
        }
      ]
    },
    {
      "cell_type": "markdown",
      "source": [
        "<h3>Boolean Masks are a bunch of true , false values wich determines whether a condition is true or not</h3>"
      ],
      "metadata": {
        "id": "B3zV2DjywpnN"
      }
    },
    {
      "cell_type": "code",
      "source": [
        "x=np.array([2,5,7,8,9,12,14])\n",
        "mask=(x%2==0)\n",
        "print(mask)\n",
        "print(x[mask])"
      ],
      "metadata": {
        "colab": {
          "base_uri": "https://localhost:8080/"
        },
        "id": "OhYc4NI_xi-f",
        "outputId": "12cdaf43-477f-4804-8f82-2067e7a5cf14"
      },
      "execution_count": null,
      "outputs": [
        {
          "output_type": "stream",
          "name": "stdout",
          "text": [
            "[ True False False  True False  True  True]\n",
            "[ 2  8 12 14]\n"
          ]
        }
      ]
    },
    {
      "cell_type": "code",
      "source": [],
      "metadata": {
        "id": "UNW5KWsCxfBM"
      },
      "execution_count": null,
      "outputs": []
    },
    {
      "cell_type": "markdown",
      "source": [
        "<h1>Slicing<h1>\n"
      ],
      "metadata": {
        "id": "ET6AKPAtIXYx"
      }
    },
    {
      "cell_type": "code",
      "source": [
        "#start:stop:step\n",
        "# 1D\n",
        "t=np.array([1,2,3,4,5,6])\n",
        "print(t)\n",
        "print(\"2 to 5\",t[1:5])\n",
        "print(\"2 to end\",t[1:])\n",
        "print(\"jump 2\",t[::2])"
      ],
      "metadata": {
        "colab": {
          "base_uri": "https://localhost:8080/"
        },
        "id": "pXhfTFMLIdw6",
        "outputId": "6460263c-ee3d-4fc9-bff0-c89123df7f73"
      },
      "execution_count": null,
      "outputs": [
        {
          "output_type": "stream",
          "name": "stdout",
          "text": [
            "[1 2 3 4 5 6]\n",
            "2 to 5 [2 3 4 5]\n",
            "2 to end [2 3 4 5 6]\n",
            "jump 2 [1 3 5]\n"
          ]
        }
      ]
    },
    {
      "cell_type": "code",
      "source": [
        "# 2D\n",
        "t=np.array([[1,2,3,4,5],[9,8,7,6,5],[1,2,3,4,5]])\n",
        "print(t)\n",
        "print(\"8 to 5:\",t[1,1:])\n"
      ],
      "metadata": {
        "colab": {
          "base_uri": "https://localhost:8080/"
        },
        "id": "yD1a_VfQKL-K",
        "outputId": "364de76f-db73-4414-812c-435982c8c6ac"
      },
      "execution_count": null,
      "outputs": [
        {
          "output_type": "stream",
          "name": "stdout",
          "text": [
            "[[1 2 3 4 5]\n",
            " [9 8 7 6 5]\n",
            " [1 2 3 4 5]]\n",
            "8 to 5: [8 7 6 5]\n"
          ]
        }
      ]
    },
    {
      "cell_type": "markdown",
      "source": [
        "<h1>** Inbuilt Functions**</h1>"
      ],
      "metadata": {
        "id": "bbXu0aMjUO0Q"
      }
    },
    {
      "cell_type": "code",
      "source": [
        "# np.arange(start,stop,step)\n",
        "arr=np.arange(0,10)"
      ],
      "metadata": {
        "id": "Gmthks0UT6CF"
      },
      "execution_count": null,
      "outputs": []
    },
    {
      "cell_type": "code",
      "source": [
        "print(arr)"
      ],
      "metadata": {
        "colab": {
          "base_uri": "https://localhost:8080/"
        },
        "id": "Vz4v8v_EVSPg",
        "outputId": "d302b8aa-c818-4ed3-a109-1ef9ba0b2a31"
      },
      "execution_count": null,
      "outputs": [
        {
          "output_type": "stream",
          "name": "stdout",
          "text": [
            "[0 1 2 3 4 5 6 7 8 9]\n"
          ]
        }
      ]
    },
    {
      "cell_type": "code",
      "source": [
        "arr=np.arange(0,20,step=3)"
      ],
      "metadata": {
        "id": "0qgCmOwJVUFv"
      },
      "execution_count": null,
      "outputs": []
    },
    {
      "cell_type": "code",
      "source": [
        "print(arr)"
      ],
      "metadata": {
        "colab": {
          "base_uri": "https://localhost:8080/"
        },
        "id": "1rN9FC7LVcwW",
        "outputId": "928592f1-2aa6-45d4-82a6-b8ec6338db30"
      },
      "execution_count": null,
      "outputs": [
        {
          "output_type": "stream",
          "name": "stdout",
          "text": [
            "[ 0  3  6  9 12 15 18]\n"
          ]
        }
      ]
    },
    {
      "cell_type": "code",
      "source": [
        "np.arange(4)"
      ],
      "metadata": {
        "colab": {
          "base_uri": "https://localhost:8080/"
        },
        "id": "qpCft2GwVeY_",
        "outputId": "ced334ab-2551-4643-869b-0f7c913b1266"
      },
      "execution_count": null,
      "outputs": [
        {
          "output_type": "execute_result",
          "data": {
            "text/plain": [
              "array([0, 1, 2, 3])"
            ]
          },
          "metadata": {},
          "execution_count": 93
        }
      ]
    },
    {
      "cell_type": "code",
      "source": [
        "np.arange(-3,3)"
      ],
      "metadata": {
        "colab": {
          "base_uri": "https://localhost:8080/"
        },
        "id": "10brsDlcXN2e",
        "outputId": "1c82f47a-be1f-466e-86b8-878ad16e92e6"
      },
      "execution_count": null,
      "outputs": [
        {
          "output_type": "execute_result",
          "data": {
            "text/plain": [
              "array([-3, -2, -1,  0,  1,  2])"
            ]
          },
          "metadata": {},
          "execution_count": 94
        }
      ]
    },
    {
      "cell_type": "code",
      "source": [
        "np.arange(-3,4,3)"
      ],
      "metadata": {
        "colab": {
          "base_uri": "https://localhost:8080/"
        },
        "id": "6LqIXrnNXSJb",
        "outputId": "e0b74a75-52cf-4d1c-a345-871c54e11db3"
      },
      "execution_count": null,
      "outputs": [
        {
          "output_type": "execute_result",
          "data": {
            "text/plain": [
              "array([-3,  0,  3])"
            ]
          },
          "metadata": {},
          "execution_count": 95
        }
      ]
    },
    {
      "cell_type": "code",
      "source": [
        "np.arange(0,10).reshape(5,2)"
      ],
      "metadata": {
        "colab": {
          "base_uri": "https://localhost:8080/"
        },
        "id": "fEYMmzkbh9pQ",
        "outputId": "af124478-aa14-4584-dfa8-7a47e020be71"
      },
      "execution_count": null,
      "outputs": [
        {
          "output_type": "execute_result",
          "data": {
            "text/plain": [
              "array([[0, 1],\n",
              "       [2, 3],\n",
              "       [4, 5],\n",
              "       [6, 7],\n",
              "       [8, 9]])"
            ]
          },
          "metadata": {},
          "execution_count": 123
        }
      ]
    },
    {
      "cell_type": "code",
      "source": [
        "# linspace ,def linspace(start, stop, num=), gives a particular space, num specifies how may points we basically want,equally spaced\n",
        "np.linspace(0,20,num=5, dtype=int)"
      ],
      "metadata": {
        "colab": {
          "base_uri": "https://localhost:8080/"
        },
        "id": "fmaRZQtNXgCg",
        "outputId": "c00ec9c2-920e-4474-c4cc-2963f02447a7"
      },
      "execution_count": null,
      "outputs": [
        {
          "output_type": "execute_result",
          "data": {
            "text/plain": [
              "array([ 0,  5, 10, 15, 20])"
            ]
          },
          "metadata": {},
          "execution_count": 174
        }
      ]
    },
    {
      "cell_type": "code",
      "source": [
        "# Copy Function and Broadcasting , creating an another memory space , (to remove the acccess of one variable to another variable)"
      ],
      "metadata": {
        "id": "d8ezeF0Za6OK"
      },
      "execution_count": null,
      "outputs": []
    },
    {
      "cell_type": "code",
      "source": [
        "arr"
      ],
      "metadata": {
        "colab": {
          "base_uri": "https://localhost:8080/"
        },
        "id": "DRmsE7dec8c6",
        "outputId": "8165c7e2-35c2-44cc-ce98-e9fce295fb4f"
      },
      "execution_count": null,
      "outputs": [
        {
          "output_type": "execute_result",
          "data": {
            "text/plain": [
              "array([b'1', b'2', b'3', b'4'], dtype='|S1')"
            ]
          },
          "metadata": {},
          "execution_count": 226
        }
      ]
    },
    {
      "cell_type": "code",
      "source": [
        "arr[3:]=100"
      ],
      "metadata": {
        "id": "8y2DQG6Cc9g4"
      },
      "execution_count": null,
      "outputs": []
    },
    {
      "cell_type": "code",
      "source": [
        "print(arr)"
      ],
      "metadata": {
        "colab": {
          "base_uri": "https://localhost:8080/"
        },
        "id": "VqCPqLCWdD3F",
        "outputId": "e3f3bfd4-7978-4d60-ed2b-b65679207226"
      },
      "execution_count": null,
      "outputs": [
        {
          "output_type": "stream",
          "name": "stdout",
          "text": [
            "[  0   3   6 100 100 100 100]\n"
          ]
        }
      ]
    },
    {
      "cell_type": "code",
      "source": [
        "arr1=arr"
      ],
      "metadata": {
        "id": "tkVheCR8dF1o"
      },
      "execution_count": null,
      "outputs": []
    },
    {
      "cell_type": "code",
      "source": [
        "arr1[3:]=500"
      ],
      "metadata": {
        "id": "Z1lpU6w0daIa"
      },
      "execution_count": null,
      "outputs": []
    },
    {
      "cell_type": "code",
      "source": [
        "print(arr1)"
      ],
      "metadata": {
        "colab": {
          "base_uri": "https://localhost:8080/"
        },
        "id": "caUmRkAddgTM",
        "outputId": "55bdefdf-4d21-40e4-a23d-b35fbcc0e219"
      },
      "execution_count": null,
      "outputs": [
        {
          "output_type": "stream",
          "name": "stdout",
          "text": [
            "[  0   3   6 500 500 500 500]\n"
          ]
        }
      ]
    },
    {
      "cell_type": "code",
      "source": [
        "arr1=arr.copy()"
      ],
      "metadata": {
        "id": "pwT-HFJ6diJ8"
      },
      "execution_count": null,
      "outputs": []
    },
    {
      "cell_type": "code",
      "source": [
        "print(arr)\n",
        "arr1[3:]=500\n",
        "print(arr1)"
      ],
      "metadata": {
        "colab": {
          "base_uri": "https://localhost:8080/"
        },
        "id": "5jO6GfEUdzPq",
        "outputId": "eabba495-0dc2-445c-9d7d-d0cb526e359b"
      },
      "execution_count": null,
      "outputs": [
        {
          "output_type": "stream",
          "name": "stdout",
          "text": [
            "[  0   3   6 100 100 100 100]\n",
            "[  0   3   6 500 500 500 500]\n"
          ]
        }
      ]
    },
    {
      "cell_type": "markdown",
      "source": [
        "Some conditions useful in EDA"
      ],
      "metadata": {
        "id": "cYNvpadNgRvv"
      }
    },
    {
      "cell_type": "code",
      "source": [
        "arr=np.array([1,1,2,3,4,5])\n",
        "print(arr)"
      ],
      "metadata": {
        "colab": {
          "base_uri": "https://localhost:8080/"
        },
        "id": "rmu9j92gg4-1",
        "outputId": "1491dbf8-6ff0-49ea-cea7-5d8b3dd6b268"
      },
      "execution_count": null,
      "outputs": [
        {
          "output_type": "stream",
          "name": "stdout",
          "text": [
            "[1 1 2 3 4 5]\n"
          ]
        }
      ]
    },
    {
      "cell_type": "code",
      "source": [
        "val=2\n",
        "arr>2"
      ],
      "metadata": {
        "colab": {
          "base_uri": "https://localhost:8080/"
        },
        "id": "nBRuHhaBg8dO",
        "outputId": "6ca976c2-ef79-404c-ebd5-ab8c0c7bfafc"
      },
      "execution_count": null,
      "outputs": [
        {
          "output_type": "execute_result",
          "data": {
            "text/plain": [
              "array([False, False, False,  True,  True,  True])"
            ]
          },
          "metadata": {},
          "execution_count": 237
        }
      ]
    },
    {
      "cell_type": "code",
      "source": [
        "arr*2"
      ],
      "metadata": {
        "colab": {
          "base_uri": "https://localhost:8080/"
        },
        "id": "gtXKU6mGhNe2",
        "outputId": "5704f645-29ad-4cc9-fba6-3692c4e1fd23"
      },
      "execution_count": null,
      "outputs": [
        {
          "output_type": "execute_result",
          "data": {
            "text/plain": [
              "array([ 2,  2,  4,  6,  8, 10])"
            ]
          },
          "metadata": {},
          "execution_count": 235
        }
      ]
    },
    {
      "cell_type": "code",
      "source": [
        "arr-2"
      ],
      "metadata": {
        "colab": {
          "base_uri": "https://localhost:8080/"
        },
        "id": "Neu-QEP-hVNb",
        "outputId": "1494e5cd-1164-4a95-cb78-cba8f2e62cdd"
      },
      "execution_count": null,
      "outputs": [
        {
          "output_type": "execute_result",
          "data": {
            "text/plain": [
              "array([-1, -1,  0,  1,  2,  3])"
            ]
          },
          "metadata": {},
          "execution_count": 236
        }
      ]
    },
    {
      "cell_type": "code",
      "source": [
        "arr"
      ],
      "metadata": {
        "colab": {
          "base_uri": "https://localhost:8080/"
        },
        "id": "kzWa3mphhuPe",
        "outputId": "019e33a5-5111-428d-8e3e-62a5973764b3"
      },
      "execution_count": null,
      "outputs": [
        {
          "output_type": "execute_result",
          "data": {
            "text/plain": [
              "array([  0,   3,   6, 100, 100, 100, 100])"
            ]
          },
          "metadata": {},
          "execution_count": 122
        }
      ]
    },
    {
      "cell_type": "code",
      "source": [
        "arr[arr<2]    # getting the elements rather than true or false"
      ],
      "metadata": {
        "colab": {
          "base_uri": "https://localhost:8080/"
        },
        "id": "BDIApJcshdz_",
        "outputId": "54b02504-f55b-4a69-e2db-191c298f1326"
      },
      "execution_count": null,
      "outputs": [
        {
          "output_type": "execute_result",
          "data": {
            "text/plain": [
              "array([0])"
            ]
          },
          "metadata": {},
          "execution_count": 121
        }
      ]
    },
    {
      "cell_type": "code",
      "source": [
        "# np.ones , it replaces all the elements by 1\n",
        "np.ones(5)"
      ],
      "metadata": {
        "colab": {
          "base_uri": "https://localhost:8080/"
        },
        "id": "WLfg_pFceAWZ",
        "outputId": "a5aa76bb-fd69-4273-9ae6-570cb9f42622"
      },
      "execution_count": null,
      "outputs": [
        {
          "output_type": "execute_result",
          "data": {
            "text/plain": [
              "array([1., 1., 1., 1., 1.])"
            ]
          },
          "metadata": {},
          "execution_count": 124
        }
      ]
    },
    {
      "cell_type": "code",
      "source": [],
      "metadata": {
        "id": "Da2rnOp6kriP"
      },
      "execution_count": null,
      "outputs": []
    },
    {
      "cell_type": "code",
      "source": [
        "np.ones(5,dtype=int)"
      ],
      "metadata": {
        "colab": {
          "base_uri": "https://localhost:8080/"
        },
        "id": "znO766oki0LM",
        "outputId": "b94d2bfc-1f2f-47db-96ef-5e54133f41ab"
      },
      "execution_count": null,
      "outputs": [
        {
          "output_type": "execute_result",
          "data": {
            "text/plain": [
              "array([1, 1, 1, 1, 1])"
            ]
          },
          "metadata": {},
          "execution_count": 126
        }
      ]
    },
    {
      "cell_type": "code",
      "source": [
        "np.ones((2,5),dtype=float)"
      ],
      "metadata": {
        "colab": {
          "base_uri": "https://localhost:8080/"
        },
        "id": "m5NdbRXMi-nw",
        "outputId": "766cb115-dcc4-4327-a698-d368bfa534b1"
      },
      "execution_count": null,
      "outputs": [
        {
          "output_type": "execute_result",
          "data": {
            "text/plain": [
              "array([[1., 1., 1., 1., 1.],\n",
              "       [1., 1., 1., 1., 1.]])"
            ]
          },
          "metadata": {},
          "execution_count": 128
        }
      ]
    },
    {
      "cell_type": "code",
      "source": [
        "# np.zeros\n",
        "np.zeros(5)"
      ],
      "metadata": {
        "colab": {
          "base_uri": "https://localhost:8080/"
        },
        "id": "WeyhVzj-jYqc",
        "outputId": "55162bd2-0685-4167-a9ee-db4ffe72356d"
      },
      "execution_count": null,
      "outputs": [
        {
          "output_type": "execute_result",
          "data": {
            "text/plain": [
              "array([0., 0., 0., 0., 0.])"
            ]
          },
          "metadata": {},
          "execution_count": 129
        }
      ]
    },
    {
      "cell_type": "code",
      "source": [
        "np.zeros((3,3))"
      ],
      "metadata": {
        "colab": {
          "base_uri": "https://localhost:8080/"
        },
        "id": "6jwTdxkiEFFp",
        "outputId": "70065d78-0862-4010-f746-7df66f91c3fd"
      },
      "execution_count": null,
      "outputs": [
        {
          "output_type": "execute_result",
          "data": {
            "text/plain": [
              "array([[0., 0., 0.],\n",
              "       [0., 0., 0.],\n",
              "       [0., 0., 0.]])"
            ]
          },
          "metadata": {},
          "execution_count": 161
        }
      ]
    },
    {
      "cell_type": "code",
      "source": [
        "# empty array\n",
        "np.empty(3)"
      ],
      "metadata": {
        "colab": {
          "base_uri": "https://localhost:8080/"
        },
        "id": "pEf6Qfa-Ef3Y",
        "outputId": "15e8c55a-943c-442d-8ee5-97eafc227044"
      },
      "execution_count": null,
      "outputs": [
        {
          "output_type": "execute_result",
          "data": {
            "text/plain": [
              "array([2.e-323, 3.e-323, 4.e-323])"
            ]
          },
          "metadata": {},
          "execution_count": 163
        }
      ]
    },
    {
      "cell_type": "code",
      "source": [
        "# eye return daigonals as 1\n",
        "np.eye(3)"
      ],
      "metadata": {
        "colab": {
          "base_uri": "https://localhost:8080/"
        },
        "id": "Pqyf4ELtE6A7",
        "outputId": "22e93936-c743-4e76-d212-8e21da9c8a28"
      },
      "execution_count": null,
      "outputs": [
        {
          "output_type": "execute_result",
          "data": {
            "text/plain": [
              "array([[1., 0., 0.],\n",
              "       [0., 1., 0.],\n",
              "       [0., 0., 1.]])"
            ]
          },
          "metadata": {},
          "execution_count": 164
        }
      ]
    },
    {
      "cell_type": "code",
      "source": [
        "np.eye(4,4)"
      ],
      "metadata": {
        "colab": {
          "base_uri": "https://localhost:8080/"
        },
        "id": "NUf5p42hFOPz",
        "outputId": "fb3067a1-b18d-40be-88b3-69fe07204320"
      },
      "execution_count": null,
      "outputs": [
        {
          "output_type": "execute_result",
          "data": {
            "text/plain": [
              "array([[1., 0., 0., 0.],\n",
              "       [0., 1., 0., 0.],\n",
              "       [0., 0., 1., 0.],\n",
              "       [0., 0., 0., 1.]])"
            ]
          },
          "metadata": {},
          "execution_count": 165
        }
      ]
    },
    {
      "cell_type": "code",
      "source": [
        "# np.full\n",
        "np.full((2,2),7)"
      ],
      "metadata": {
        "colab": {
          "base_uri": "https://localhost:8080/"
        },
        "id": "gT0d2UJFL0hF",
        "outputId": "023649d6-da36-4bfe-c5cd-8845e7999db0"
      },
      "execution_count": null,
      "outputs": [
        {
          "output_type": "execute_result",
          "data": {
            "text/plain": [
              "array([[7, 7],\n",
              "       [7, 7]])"
            ]
          },
          "metadata": {},
          "execution_count": 189
        }
      ]
    },
    {
      "cell_type": "code",
      "source": [
        "e = np.random.random((2,2))\n",
        "print(e)"
      ],
      "metadata": {
        "colab": {
          "base_uri": "https://localhost:8080/"
        },
        "id": "ObTBg5dkMHk_",
        "outputId": "41739870-bdbe-4edf-b933-fce3fffb41db"
      },
      "execution_count": null,
      "outputs": [
        {
          "output_type": "stream",
          "name": "stdout",
          "text": [
            "[[0.5501246  0.97507242]\n",
            " [0.24955954 0.18913805]]\n"
          ]
        }
      ]
    },
    {
      "cell_type": "code",
      "source": [
        "# Random Distribution ,rand() function , selection is between 0 and 1.\n",
        "#np.random.rand(3,3) , selects some random values of this given shape\n",
        "np.random.rand(3,3)"
      ],
      "metadata": {
        "id": "KScwfTGfj-T3",
        "colab": {
          "base_uri": "https://localhost:8080/"
        },
        "outputId": "3f8fcb22-98db-496e-eba4-da36808721a2"
      },
      "execution_count": null,
      "outputs": [
        {
          "output_type": "execute_result",
          "data": {
            "text/plain": [
              "array([[0.82449913, 0.85015228, 0.12687989],\n",
              "       [0.32148554, 0.7304634 , 0.50061776],\n",
              "       [0.01742649, 0.84373733, 0.87682642]])"
            ]
          },
          "metadata": {},
          "execution_count": 130
        }
      ]
    },
    {
      "cell_type": "code",
      "source": [
        "np.random.rand(2,3)"
      ],
      "metadata": {
        "id": "81N5uo0mmfxX",
        "colab": {
          "base_uri": "https://localhost:8080/"
        },
        "outputId": "ac6493ac-732b-4449-bf2e-623a72be6778"
      },
      "execution_count": null,
      "outputs": [
        {
          "output_type": "execute_result",
          "data": {
            "text/plain": [
              "array([[0.31937134, 0.04631522, 0.23999659],\n",
              "       [0.01156202, 0.5872366 , 0.60950466]])"
            ]
          },
          "metadata": {},
          "execution_count": 176
        }
      ]
    },
    {
      "cell_type": "code",
      "source": [
        "# randn() function returns values close to zero, maybe positive negative\n",
        "np.random.randn(3)"
      ],
      "metadata": {
        "colab": {
          "base_uri": "https://localhost:8080/"
        },
        "id": "wUh8X_ZMG-zk",
        "outputId": "fb2a09aa-c0cd-45e7-a08f-b7125662d87f"
      },
      "execution_count": null,
      "outputs": [
        {
          "output_type": "execute_result",
          "data": {
            "text/plain": [
              "array([0.11899361, 0.37680677, 0.04452973])"
            ]
          },
          "metadata": {},
          "execution_count": 178
        }
      ]
    },
    {
      "cell_type": "code",
      "source": [
        "# ranf() fills with various float numbers in the half open interval [0.0,1.0)\n",
        "np.random.ranf(2)"
      ],
      "metadata": {
        "colab": {
          "base_uri": "https://localhost:8080/"
        },
        "id": "yM4ltfdYHTbB",
        "outputId": "286ac6f8-509e-46b9-a34f-07a62592d62c"
      },
      "execution_count": null,
      "outputs": [
        {
          "output_type": "execute_result",
          "data": {
            "text/plain": [
              "array([0.56585595, 0.91651372])"
            ]
          },
          "metadata": {},
          "execution_count": 181
        }
      ]
    },
    {
      "cell_type": "code",
      "source": [
        "# randint() genrate random numbers between a range (min,max,total_values)\n",
        "np.random.randint(5,50,10)"
      ],
      "metadata": {
        "colab": {
          "base_uri": "https://localhost:8080/"
        },
        "id": "IJv4zwAFH7TY",
        "outputId": "60d90209-6b60-4d37-9107-a38de7b9ad2e"
      },
      "execution_count": null,
      "outputs": [
        {
          "output_type": "execute_result",
          "data": {
            "text/plain": [
              "array([36, 34, 32,  5, 27, 41,  5, 11, 16, 12])"
            ]
          },
          "metadata": {},
          "execution_count": 184
        }
      ]
    },
    {
      "cell_type": "code",
      "source": [
        "# appending values\n",
        "arr = np.array([1, 8, 3, 3, 5])\n",
        "print('Original Array : ', arr)\n",
        "\n",
        "# appending to the array\n",
        "arr = np.append(arr, [7])\n",
        "print('Array after appending : ', arr)"
      ],
      "metadata": {
        "colab": {
          "base_uri": "https://localhost:8080/"
        },
        "id": "SUrN1SD5Ixx4",
        "outputId": "909cbba7-d875-4856-ded6-de6ad4664ce4"
      },
      "execution_count": null,
      "outputs": [
        {
          "output_type": "stream",
          "name": "stdout",
          "text": [
            "Original Array :  [1 8 3 3 5]\n",
            "Array after appending :  [1 8 3 3 5 7]\n"
          ]
        }
      ]
    },
    {
      "cell_type": "code",
      "source": [
        "# swapping the columns\n",
        "arr1=np.arange(12).reshape(3,4)\n",
        "print(\"Origanal Array\\n\",arr1)\n",
        "arr1[:,[0,3]]=arr1[:,[3,0]]\n",
        "print(\"Swapped Array\\n\",arr1)\n"
      ],
      "metadata": {
        "colab": {
          "base_uri": "https://localhost:8080/"
        },
        "id": "8Trc1W08Ozs2",
        "outputId": "3b8e112e-8cf1-43a3-fd7f-e22df8cbbe17"
      },
      "execution_count": null,
      "outputs": [
        {
          "output_type": "stream",
          "name": "stdout",
          "text": [
            "Origanal Array\n",
            " [[ 0  1  2  3]\n",
            " [ 4  5  6  7]\n",
            " [ 8  9 10 11]]\n",
            "Swapped Array\n",
            " [[ 3  1  2  0]\n",
            " [ 7  5  6  4]\n",
            " [11  9 10  8]]\n"
          ]
        }
      ]
    },
    {
      "cell_type": "markdown",
      "source": [
        "<h1>Arthimetic Operations</h1>"
      ],
      "metadata": {
        "id": "46GUf1G00fvH"
      }
    },
    {
      "cell_type": "code",
      "source": [
        "# one D\n",
        "a = np.array([14, 23, 32, 41])\n",
        "b = np.array([5,  4,  3,  2])\n",
        "print(\"a + b  =\", a + b)\n",
        "print(\"a - b  =\", a - b)\n",
        "print(\"a * b  =\", a * b)\n",
        "print(\"a / b  =\", a / b)\n",
        "print(\"a // b  =\", a // b)\n",
        "print(\"a % b  =\", a % b)\n",
        "print(\"a ** b =\", a ** b)"
      ],
      "metadata": {
        "id": "3LK5YWuGO-Lq",
        "colab": {
          "base_uri": "https://localhost:8080/"
        },
        "outputId": "465a7bee-1d5e-41fd-f071-d5f94306f1d1"
      },
      "execution_count": null,
      "outputs": [
        {
          "output_type": "stream",
          "name": "stdout",
          "text": [
            "a + b  = [19 27 35 43]\n",
            "a - b  = [ 9 19 29 39]\n",
            "a * b  = [70 92 96 82]\n",
            "a / b  = [ 2.8         5.75       10.66666667 20.5       ]\n",
            "a // b  = [ 2  5 10 20]\n",
            "a % b  = [4 3 2 1]\n",
            "a ** b = [537824 279841  32768   1681]\n"
          ]
        }
      ]
    },
    {
      "cell_type": "code",
      "source": [
        "x=np.array([1,2,3,4,5])\n",
        "add=x+3\n",
        "sub=x-3\n",
        "mul=x*3\n",
        "print(add)\n",
        "print(sub)\n",
        "print(mul)"
      ],
      "metadata": {
        "colab": {
          "base_uri": "https://localhost:8080/"
        },
        "id": "uNYEP83803Ub",
        "outputId": "230195c8-1d7b-46aa-c695-d6c52dd68840"
      },
      "execution_count": null,
      "outputs": [
        {
          "output_type": "stream",
          "name": "stdout",
          "text": [
            "[4 5 6 7 8]\n",
            "[-2 -1  0  1  2]\n",
            "[ 3  6  9 12 15]\n"
          ]
        }
      ]
    },
    {
      "cell_type": "code",
      "source": [
        "p=np.array([1,2,3,4,5])\n",
        "q=np.array([1,2,3,4,5])\n",
        "print(np.add(p,q))\n",
        "print(np.subtract(p,q))\n",
        "print(np.power(p,q))"
      ],
      "metadata": {
        "colab": {
          "base_uri": "https://localhost:8080/"
        },
        "id": "m4zIeQ7A1Jf4",
        "outputId": "cf358211-5454-4c81-a33d-a2e83d438495"
      },
      "execution_count": null,
      "outputs": [
        {
          "output_type": "stream",
          "name": "stdout",
          "text": [
            "[ 2  4  6  8 10]\n",
            "[0 0 0 0 0]\n",
            "[   1    4   27  256 3125]\n"
          ]
        }
      ]
    },
    {
      "cell_type": "code",
      "source": [
        "# 2D arrays\n",
        "x_2d=np.array([[1,2,3,4,5],[1,2,3,4,5]])\n",
        "print(x_2d)\n",
        "y_2d=np.array([[1,2,3,4,5],[1,2,3,4,5]])\n",
        "print(y_2d)\n",
        "xy_add=x_2d+y_2d\n",
        "print(xy_add)"
      ],
      "metadata": {
        "colab": {
          "base_uri": "https://localhost:8080/"
        },
        "id": "K9kd0DY-2Y2W",
        "outputId": "8ad18625-3dc4-4f20-c8f0-419696257583"
      },
      "execution_count": null,
      "outputs": [
        {
          "output_type": "stream",
          "name": "stdout",
          "text": [
            "[[1 2 3 4 5]\n",
            " [1 2 3 4 5]]\n",
            "[[1 2 3 4 5]\n",
            " [1 2 3 4 5]]\n",
            "[[ 2  4  6  8 10]\n",
            " [ 2  4  6  8 10]]\n"
          ]
        }
      ]
    },
    {
      "cell_type": "markdown",
      "source": [
        "<h1>Arthimetic Functions<h1>\n"
      ],
      "metadata": {
        "id": "g_qC5R8vAw5n"
      }
    },
    {
      "cell_type": "code",
      "source": [
        "# min\n",
        "x=np.array([1,2,3,4,58,6])\n",
        "print(np.min(x))"
      ],
      "metadata": {
        "colab": {
          "base_uri": "https://localhost:8080/"
        },
        "id": "nb5yT9Xa4MrE",
        "outputId": "0f43ddcd-6df6-4686-9323-c07628b037c0"
      },
      "execution_count": null,
      "outputs": [
        {
          "output_type": "stream",
          "name": "stdout",
          "text": [
            "1\n"
          ]
        }
      ]
    },
    {
      "cell_type": "code",
      "source": [
        "# max\n",
        "x=np.array([1,2,3,4,58,6])\n",
        "print(np.max(x))\n"
      ],
      "metadata": {
        "colab": {
          "base_uri": "https://localhost:8080/"
        },
        "id": "43YS7gjfBSUP",
        "outputId": "1cb26d0a-bae5-48b6-b9bc-9b8d3f5ac805"
      },
      "execution_count": null,
      "outputs": [
        {
          "output_type": "stream",
          "name": "stdout",
          "text": [
            "58\n"
          ]
        }
      ]
    },
    {
      "cell_type": "code",
      "source": [
        "# argmin gives the position of min,max\n",
        "x=np.array([1,2,3,4,58,6])\n",
        "print(np.min(x),np.argmin(x))\n",
        "print(np.max(x),np.argmax(x))"
      ],
      "metadata": {
        "colab": {
          "base_uri": "https://localhost:8080/"
        },
        "id": "ifTKwQdYBbj_",
        "outputId": "f7d84072-51dd-4625-b3e3-da64543ce8e1"
      },
      "execution_count": null,
      "outputs": [
        {
          "output_type": "stream",
          "name": "stdout",
          "text": [
            "1 0\n",
            "58 4\n"
          ]
        }
      ]
    },
    {
      "cell_type": "code",
      "source": [
        "# getting min, max of 2D\n",
        "x=np.array([[1,2,3,4],[5,7,8,9]])\n",
        "print(\"columns\")\n",
        "print(\"min\",np.min(x,axis=0))          # axis 0 =column\n",
        "print(\"max\",np.max(x,axis=0))\n",
        "print(\"rows\")\n",
        "print(\"min\",np.min(x,axis=1))          # axis 1 =row\n",
        "print(\"min\",np.max(x,axis=1))\n"
      ],
      "metadata": {
        "colab": {
          "base_uri": "https://localhost:8080/"
        },
        "id": "MB8uWPNrBujD",
        "outputId": "b67ec0aa-57a1-4351-dfca-c13b7c286096"
      },
      "execution_count": null,
      "outputs": [
        {
          "output_type": "stream",
          "name": "stdout",
          "text": [
            "columns\n",
            "min [1 2 3 4]\n",
            "max [5 7 8 9]\n",
            "rows\n",
            "min [1 5]\n",
            "min [4 9]\n"
          ]
        }
      ]
    },
    {
      "cell_type": "code",
      "source": [
        "# squareroot\n",
        "p=np.array([1,2,3,4,5])\n",
        "print(\"sqrt:\",np.sqrt(p))\n"
      ],
      "metadata": {
        "colab": {
          "base_uri": "https://localhost:8080/"
        },
        "id": "h9fOleKlDt9b",
        "outputId": "510b9dcf-4439-4639-ad44-7206d5955fb5"
      },
      "execution_count": null,
      "outputs": [
        {
          "output_type": "stream",
          "name": "stdout",
          "text": [
            "sqrt: [1.         1.41421356 1.73205081 2.         2.23606798]\n"
          ]
        }
      ]
    },
    {
      "cell_type": "code",
      "source": [
        "var2= np.array([4,5,6])\n",
        "print(np.sin(var2))\n",
        "print(np.cos(var2))"
      ],
      "metadata": {
        "colab": {
          "base_uri": "https://localhost:8080/"
        },
        "id": "5rbJFDCcEwoS",
        "outputId": "a97edcaa-6083-43fa-9e73-febec5e1dc0a"
      },
      "execution_count": null,
      "outputs": [
        {
          "output_type": "stream",
          "name": "stdout",
          "text": [
            "[-0.7568025  -0.95892427 -0.2794155 ]\n",
            "[-0.65364362  0.28366219  0.96017029]\n"
          ]
        }
      ]
    },
    {
      "cell_type": "code",
      "source": [
        "# cumulative sum [1,2,3,4]=1,1+2,3+3,6+4\n",
        "var2= np.array([1,2,3,4])\n",
        "print(np.cumsum(var2))"
      ],
      "metadata": {
        "colab": {
          "base_uri": "https://localhost:8080/"
        },
        "id": "V9IsoSmPFcBL",
        "outputId": "1b3d884c-ecf8-4603-bac9-bdf4138e31cb"
      },
      "execution_count": null,
      "outputs": [
        {
          "output_type": "stream",
          "name": "stdout",
          "text": [
            "[ 1  3  6 10]\n"
          ]
        }
      ]
    },
    {
      "cell_type": "code",
      "source": [
        "# sum\n",
        "p=np.array([1,2,3,4,5])\n",
        "print(np.sum(p))\n"
      ],
      "metadata": {
        "id": "CJ48qA9sG-To",
        "colab": {
          "base_uri": "https://localhost:8080/"
        },
        "outputId": "1df34ad3-9267-45eb-d764-c0bbd113561b"
      },
      "execution_count": null,
      "outputs": [
        {
          "output_type": "stream",
          "name": "stdout",
          "text": [
            "15\n"
          ]
        }
      ]
    },
    {
      "cell_type": "markdown",
      "source": [
        "<h3> Numpy Arrays Functions</h3>"
      ],
      "metadata": {
        "id": "VPx61kkoYVKx"
      }
    },
    {
      "cell_type": "code",
      "source": [
        "# Search Array, search an array for a certain value, and return the indexes that get a match, uses where()\n",
        "var3=np.array([1,3,2,4,5,2,7,9,6,8,7,])\n",
        "p=np.where( var3==2)\n",
        "print(p)"
      ],
      "metadata": {
        "colab": {
          "base_uri": "https://localhost:8080/"
        },
        "id": "ELGWkJQHYTfN",
        "outputId": "01a0a3fd-03de-4bd6-9f8b-282660e70dac"
      },
      "execution_count": null,
      "outputs": [
        {
          "output_type": "stream",
          "name": "stdout",
          "text": [
            "(array([2, 5]),)\n"
          ]
        }
      ]
    },
    {
      "cell_type": "code",
      "source": [
        "var=np.array([1,3,2,4,5,2,7,9,6,8,7,])\n",
        "p=np.where(var%2==0)\n",
        "print(p)"
      ],
      "metadata": {
        "id": "7VVrJt-KVWUh",
        "colab": {
          "base_uri": "https://localhost:8080/"
        },
        "outputId": "c8c74966-5ad8-4a09-d831-8d968c20e511"
      },
      "execution_count": null,
      "outputs": [
        {
          "output_type": "stream",
          "name": "stdout",
          "text": [
            "(array([2, 3, 5, 8, 9]),)\n"
          ]
        }
      ]
    },
    {
      "cell_type": "markdown",
      "source": [
        "<h3> Search Sorted Array</h3>\n",
        "<p> performs a binary search in the array and returns the index where the specified value would be inserted to maintain the search order</p>"
      ],
      "metadata": {
        "id": "2lb9tKHZaSUW"
      }
    },
    {
      "cell_type": "code",
      "source": [
        "#search sort function\n",
        "f=np.array([1,2,3,4,6,7])\n",
        "x1=np.searchsorted( f, 5)\n",
        "print(x1)"
      ],
      "metadata": {
        "colab": {
          "base_uri": "https://localhost:8080/"
        },
        "id": "frxZDeHqaR90",
        "outputId": "43ab60c0-3e21-4999-8111-429226cff2f9"
      },
      "execution_count": null,
      "outputs": [
        {
          "output_type": "stream",
          "name": "stdout",
          "text": [
            "4\n"
          ]
        }
      ]
    },
    {
      "cell_type": "code",
      "source": [
        "f1=np.array([1,2,3,4,9,10])\n",
        "x2=np.searchsorted(f1,[5,6,7,8],side=\"right\")\n",
        "print(x2)\n"
      ],
      "metadata": {
        "colab": {
          "base_uri": "https://localhost:8080/"
        },
        "id": "IY9TyztAZ0l3",
        "outputId": "e99c082f-30d8-4d94-e3b8-0bdee1f27e4f"
      },
      "execution_count": null,
      "outputs": [
        {
          "output_type": "stream",
          "name": "stdout",
          "text": [
            "[4 4 4 4]\n"
          ]
        }
      ]
    },
    {
      "cell_type": "markdown",
      "source": [
        "Sorted Arrays: ordered sequence is any sequence that has an order corresponding to elements, like numeric or alphabetical, ascending or descending"
      ],
      "metadata": {
        "id": "2AcOoNrWc7Xp"
      }
    },
    {
      "cell_type": "code",
      "source": [
        "# sort function\n",
        "x3=np.array([9,4,5,1,7,2,6,3])\n",
        "x=np.sort(x3)\n",
        "print(x)"
      ],
      "metadata": {
        "colab": {
          "base_uri": "https://localhost:8080/"
        },
        "id": "5qG4oD6kcyrm",
        "outputId": "a4850328-3816-43ab-d63f-82fffe38e230"
      },
      "execution_count": null,
      "outputs": [
        {
          "output_type": "stream",
          "name": "stdout",
          "text": [
            "[1 2 3 4 5 6 7 9]\n"
          ]
        }
      ]
    },
    {
      "cell_type": "code",
      "source": [
        "a=np.array([\"t\",\"w\",\"z\",\"a\",\"x\"])\n",
        "a1=np.sort(a)\n",
        "print(a1)"
      ],
      "metadata": {
        "colab": {
          "base_uri": "https://localhost:8080/"
        },
        "id": "HZn15pbDdmXd",
        "outputId": "57fac612-4987-4477-d43c-43c2b18a4f32"
      },
      "execution_count": null,
      "outputs": [
        {
          "output_type": "stream",
          "name": "stdout",
          "text": [
            "['a' 't' 'w' 'x' 'z']\n"
          ]
        }
      ]
    },
    {
      "cell_type": "code",
      "source": [
        "a2=np.array([[4,2,3],[9,5,7],[10,5,3]])\n",
        "z=np.sort(a2)\n",
        "print(z)"
      ],
      "metadata": {
        "colab": {
          "base_uri": "https://localhost:8080/"
        },
        "id": "pv2h9ZiLeBXZ",
        "outputId": "26d217e0-6a6f-4591-b326-f103887d9815"
      },
      "execution_count": null,
      "outputs": [
        {
          "output_type": "stream",
          "name": "stdout",
          "text": [
            "[[ 2  3  4]\n",
            " [ 5  7  9]\n",
            " [ 3  5 10]]\n"
          ]
        }
      ]
    },
    {
      "cell_type": "markdown",
      "source": [
        "**Filter Array**  getting some elements out of an existing array and creating  new array out of them"
      ],
      "metadata": {
        "id": "BNiZVuJ3eb_G"
      }
    },
    {
      "cell_type": "code",
      "source": [
        "a=np.array([\"t\",\"w\",\"z\",\"a\",\"x\"])\n",
        "f=[True,True,False,True,False]\n",
        "new_a=a[f]\n",
        "print(new_a)"
      ],
      "metadata": {
        "colab": {
          "base_uri": "https://localhost:8080/"
        },
        "id": "Ej1xp11UebWr",
        "outputId": "a7e063c9-0c9c-454f-e1ea-08d66defcbab"
      },
      "execution_count": null,
      "outputs": [
        {
          "output_type": "stream",
          "name": "stdout",
          "text": [
            "['t' 'w' 'a']\n"
          ]
        }
      ]
    },
    {
      "cell_type": "markdown",
      "source": [
        "**Insert **"
      ],
      "metadata": {
        "id": "gJL-vJIYgGkk"
      }
    },
    {
      "cell_type": "code",
      "source": [
        "d=np.array([1,2,3,4,5])\n",
        "print(d)\n",
        "print(type(d))\n",
        "np.insert(d,2,10)          #(arrayname,position,value)"
      ],
      "metadata": {
        "colab": {
          "base_uri": "https://localhost:8080/"
        },
        "id": "JX8wX8LrgF-0",
        "outputId": "800af086-418c-4b9a-f52a-d023ae169592"
      },
      "execution_count": null,
      "outputs": [
        {
          "output_type": "stream",
          "name": "stdout",
          "text": [
            "[1 2 3 4 5]\n",
            "<class 'numpy.ndarray'>\n"
          ]
        },
        {
          "output_type": "execute_result",
          "data": {
            "text/plain": [
              "array([ 1,  2, 10,  3,  4,  5])"
            ]
          },
          "metadata": {},
          "execution_count": 21
        }
      ]
    },
    {
      "cell_type": "code",
      "source": [
        "np.insert(d,(2,4),10)"
      ],
      "metadata": {
        "colab": {
          "base_uri": "https://localhost:8080/"
        },
        "id": "lWyukFVveW-I",
        "outputId": "6158dca2-2319-420d-a4cf-03c124c722d5"
      },
      "execution_count": null,
      "outputs": [
        {
          "output_type": "execute_result",
          "data": {
            "text/plain": [
              "array([ 1,  2, 10,  3,  4, 10,  5])"
            ]
          },
          "metadata": {},
          "execution_count": 22
        }
      ]
    },
    {
      "cell_type": "code",
      "source": [
        "d1=np.array([[4,2,3],[9,5,7],[10,5,3]])\n",
        "print(d1)\n",
        "v=np.insert(d1,2,6,axis=0)\n",
        "\n",
        "print(v)"
      ],
      "metadata": {
        "colab": {
          "base_uri": "https://localhost:8080/"
        },
        "id": "xKmZizZGg6IJ",
        "outputId": "a8fc4505-bad2-493a-ecfa-f906b66e3a96"
      },
      "execution_count": null,
      "outputs": [
        {
          "output_type": "stream",
          "name": "stdout",
          "text": [
            "[[ 4  2  3]\n",
            " [ 9  5  7]\n",
            " [10  5  3]]\n",
            "[[ 4  2  6  3]\n",
            " [ 9  5  6  7]\n",
            " [10  5  6  3]]\n"
          ]
        }
      ]
    },
    {
      "cell_type": "markdown",
      "source": [
        "**Delete**"
      ],
      "metadata": {
        "id": "Irti-zd6hsdq"
      }
    },
    {
      "cell_type": "code",
      "source": [
        "d=np.array([1,2,3,4,5])\n",
        "print(d)\n",
        "np.delete(d,2)"
      ],
      "metadata": {
        "colab": {
          "base_uri": "https://localhost:8080/"
        },
        "id": "KYe2_75uhPmc",
        "outputId": "2306a342-c4aa-44d9-cafd-55cc53f83d3a"
      },
      "execution_count": null,
      "outputs": [
        {
          "output_type": "stream",
          "name": "stdout",
          "text": [
            "[1 2 3 4 5]\n"
          ]
        },
        {
          "output_type": "execute_result",
          "data": {
            "text/plain": [
              "array([1, 2, 4, 5])"
            ]
          },
          "metadata": {},
          "execution_count": 29
        }
      ]
    },
    {
      "cell_type": "markdown",
      "source": [
        "<h1> Broadcasting <h1>\n",
        "**rules for broadcasting**\n",
        "\n",
        "NumPy compares sets of array dimensions from right to left\n",
        "(x,y) and(m,n) the dimensions of two arrays\n",
        "\n",
        "*   if x=y and y=n operation will take place\n",
        "*   if x=1 and y=n operation will take place\n",
        "\n",
        "*   if y=1 and x=m operation will take place\n",
        "*   if x=1 and y!=n operation will not take place\n",
        "\n",
        "*   if x=1 and n=1 then y==m opearion to tkae place\n",
        "*   if x=1 and y=1 then no matter what operation will take place\n",
        "\n",
        "Broadcastable shapes:\n",
        "\n",
        "*\n",
        "(10, 5) and (10, 1),\n",
        "(10, 5) and (5, )\n",
        "\n",
        "Shapes which are not broadcastable:\n",
        "\n",
        "*\n",
        "(10, 5) and (5, 10),\n",
        "(10, 5) and (10, )\n",
        "\n",
        "\n",
        "\n",
        "\n",
        "\n"
      ],
      "metadata": {
        "id": "tWhIBhK7in1p"
      }
    },
    {
      "cell_type": "code",
      "source": [
        "#scenario 1  dimensions are same operation is possible\n",
        "x1=np.arange(0,10).reshape(5,2)\n",
        "x2=np.arange(10,20).reshape(5,2)\n",
        "print(x1)\n",
        "print(\"\\n\",x2)\n",
        "x1+x2"
      ],
      "metadata": {
        "colab": {
          "base_uri": "https://localhost:8080/"
        },
        "id": "sX51KUVflROF",
        "outputId": "c0e21d79-e9b9-4dc7-9a70-dcde2e2b7048"
      },
      "execution_count": null,
      "outputs": [
        {
          "output_type": "stream",
          "name": "stdout",
          "text": [
            "[[0 1]\n",
            " [2 3]\n",
            " [4 5]\n",
            " [6 7]\n",
            " [8 9]]\n",
            "\n",
            " [[10 11]\n",
            " [12 13]\n",
            " [14 15]\n",
            " [16 17]\n",
            " [18 19]]\n"
          ]
        },
        {
          "output_type": "execute_result",
          "data": {
            "text/plain": [
              "array([[10, 12],\n",
              "       [14, 16],\n",
              "       [18, 20],\n",
              "       [22, 24],\n",
              "       [26, 28]])"
            ]
          },
          "metadata": {},
          "execution_count": 42
        }
      ]
    },
    {
      "cell_type": "code",
      "source": [
        "# Scenario 2 dimensions are different\n",
        "var=np.arange(9).reshape(3,3)\n",
        "var1=np.arange(3).reshape(1,3)             # here comes the concept of broadcasting addition will be still possible\n",
        "print(var,\"\\n \\n   \",var1)\n"
      ],
      "metadata": {
        "colab": {
          "base_uri": "https://localhost:8080/"
        },
        "id": "hAttJ-0DinR9",
        "outputId": "03122594-04e6-400d-fc6b-1009ff875e71"
      },
      "execution_count": null,
      "outputs": [
        {
          "output_type": "stream",
          "name": "stdout",
          "text": [
            "[[0 1 2]\n",
            " [3 4 5]\n",
            " [6 7 8]] \n",
            " \n",
            "    [[0 1 2]]\n"
          ]
        }
      ]
    },
    {
      "cell_type": "code",
      "source": [
        "print(var+var1)"
      ],
      "metadata": {
        "colab": {
          "base_uri": "https://localhost:8080/"
        },
        "id": "Yqe9INEjh7Ps",
        "outputId": "e1d15fce-567f-4a34-8caf-f196ec81790f"
      },
      "execution_count": null,
      "outputs": [
        {
          "output_type": "stream",
          "name": "stdout",
          "text": [
            "[[ 0  2  4]\n",
            " [ 3  5  7]\n",
            " [ 6  8 10]]\n"
          ]
        }
      ]
    },
    {
      "cell_type": "markdown",
      "source": [
        "Concatenating in Arrays"
      ],
      "metadata": {
        "id": "xknCvgowudUZ"
      }
    },
    {
      "cell_type": "code",
      "source": [
        "# concatenating rows, np.concatenate() concatenates along the first axis by default\n",
        "classroom_ids_and_sizes = np.array([[1, 22], [2, 21], [3, 27], [4, 26]])\n",
        "print(classroom_ids_and_sizes)\n",
        "new_classrooms = np.array([[5, 30], [5, 17]])\n",
        "print(\"\\n\",new_classrooms)\n",
        "print(\"after cocatenation\")\n",
        "np.concatenate((classroom_ids_and_sizes, new_classrooms))"
      ],
      "metadata": {
        "colab": {
          "base_uri": "https://localhost:8080/"
        },
        "id": "kL6aMGN3j_04",
        "outputId": "5d9221ce-5c50-4b26-babb-8f89a7cab5cc"
      },
      "execution_count": null,
      "outputs": [
        {
          "output_type": "stream",
          "name": "stdout",
          "text": [
            "[[ 1 22]\n",
            " [ 2 21]\n",
            " [ 3 27]\n",
            " [ 4 26]]\n",
            "\n",
            " [[ 5 30]\n",
            " [ 5 17]]\n",
            "after cocatenation\n"
          ]
        },
        {
          "output_type": "execute_result",
          "data": {
            "text/plain": [
              "array([[ 1, 22],\n",
              "       [ 2, 21],\n",
              "       [ 3, 27],\n",
              "       [ 4, 26],\n",
              "       [ 5, 30],\n",
              "       [ 5, 17]])"
            ]
          },
          "metadata": {},
          "execution_count": 54
        }
      ]
    },
    {
      "cell_type": "code",
      "source": [
        "#Concatenating columns\n",
        "classroom_ids_and_sizes = np.array([[1, 22], [2, 21], [3, 27], [4, 26]])\n",
        "grade_levels_and_teachers = np.array([[1, \"James\"], [1, \"George\"], [3,\"Amy\"],\n",
        "[3, \"Meehir\"]])\n",
        "np.concatenate((classroom_ids_and_sizes, grade_levels_and_teachers), axis=1)"
      ],
      "metadata": {
        "colab": {
          "base_uri": "https://localhost:8080/"
        },
        "id": "ROlqz0sjkJkL",
        "outputId": "b3faecaf-ed7d-4ba8-cfb3-fdb26502dcc3"
      },
      "execution_count": null,
      "outputs": [
        {
          "output_type": "execute_result",
          "data": {
            "text/plain": [
              "array([['1', '22', '1', 'James'],\n",
              "       ['2', '21', '1', 'George'],\n",
              "       ['3', '27', '3', 'Amy'],\n",
              "       ['4', '26', '3', 'Meehir']], dtype='<U21')"
            ]
          },
          "metadata": {},
          "execution_count": 55
        }
      ]
    }
  ]
}